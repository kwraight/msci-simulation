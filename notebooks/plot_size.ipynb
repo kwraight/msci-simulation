{
 "cells": [
  {
   "attachments": {},
   "cell_type": "markdown",
   "metadata": {},
   "source": [
    "## Beam size comparison\n",
    "\n",
    "Configuration:\n",
    " - Number of events: 1000\n",
    " - Particle type and energy\n",
    "     - Pi+ @ 120GeV\n",
    "     - e- @ 5GeV\n",
    " - Beam size: 10um, 50um, 100um"
   ]
  },
  {
   "cell_type": "code",
   "execution_count": null,
   "metadata": {},
   "outputs": [],
   "source": [
    "### import packages\n",
    "import pandas as pd\n",
    "import altair as alt\n",
    "from io import StringIO"
   ]
  },
  {
   "cell_type": "code",
   "execution_count": null,
   "metadata": {},
   "outputs": [],
   "source": [
    "### check package versions\n",
    "packList=[pd,alt]\n",
    "for p in packList:\n",
    "    print(p.__name__+\" : \"+p.__version__)"
   ]
  },
  {
   "attachments": {},
   "cell_type": "markdown",
   "metadata": {},
   "source": [
    "### Detector 1\n",
    "\n",
    "Closest to source\n",
    " - copy formatted data from notebook"
   ]
  },
  {
   "cell_type": "code",
   "execution_count": null,
   "metadata": {},
   "outputs": [],
   "source": [
    "### data table\n",
    "# copy data from format\n",
    "# detect 1\n",
    "data_det1='particle_type,entries,mean,std_dev,axis,size\\nPi,1124,25.90,0.7328,X,10\\nPi,1401,25.88,1.617,X,50\\nPi,1404,25.76,0.9929,X,100\\ne,1087,25.99,0.4011,X,10\\ne,1369,25.74,0.9230,X,50\\ne,1371,25.76,0.9655,X,100\\nPi,1124,40.01,0.5920,Y,10\\nPi,1401,40.19,3.471,Y,50\\nPi,1404,40.17,2.359,Y,100\\ne,1087,39.95,0.6131,Y,10\\ne,1369,40.04,1.697,Y,50\\ne,1371,40.27,1.395,Y,100\\n'\n",
    "# Convert String into StringIO\n",
    "csvStringIO = StringIO(data_det1)\n",
    "# read into dataframe\n",
    "df_det1 = pd.read_csv(csvStringIO, sep=\",\", header=0)\n",
    "# take a look\n",
    "display(df_det1)"
   ]
  },
  {
   "cell_type": "code",
   "execution_count": null,
   "metadata": {},
   "outputs": [],
   "source": [
    "### plotting\n",
    "data_cols=[\"entries\",\"mean\",\"std_dev\"]\n",
    "# loop over data columns\n",
    "for dc in data_cols:\n",
    "    chart=alt.Chart(df_det1).mark_point().encode(\n",
    "        x='size:Q',\n",
    "        y=alt.Y(dc+':Q',scale=alt.Scale(zero=False)),\n",
    "        shape='particle_type:N',\n",
    "        color='axis:N'\n",
    "    ).properties( title=dc )\n",
    "    display(chart)"
   ]
  },
  {
   "attachments": {},
   "cell_type": "markdown",
   "metadata": {},
   "source": [
    "### Detector 2\n",
    "\n",
    "Closest to source\n",
    " - copy formatted data from notebook"
   ]
  },
  {
   "cell_type": "code",
   "execution_count": null,
   "metadata": {},
   "outputs": [],
   "source": [
    "### data table\n",
    "# copy data from format\n",
    "# detect 2\n",
    "data_det2='particle_type,entries,mean,std_dev,axis,size\\nPi,1813,25.95,2.807,X,10\\nPi,1665,26.05,4.469,X,50\\nPi,1613,25.92,4.020,X,100\\ne,1782,25.92,3.418,X,10\\ne,1536,25.27,3.833,X,50\\ne,1463,25.19,3.720,X,100\\nPi,1813,39.35,4.786,Y,10\\nPi,1665,40.33,5.475,Y,50\\nPi,1613,39.54,7.017,Y,100\\ne,1782,40.00,4.058,Y,10\\ne,1536,39.35,5.557,Y,50\\ne,1463,39.29,6.026,Y,100\\n'\n",
    "# Convert String into StringIO\n",
    "csvStringIO = StringIO(data_det2)\n",
    "# read into dataframe\n",
    "df_det2 = pd.read_csv(csvStringIO, sep=\",\", header=0)\n",
    "# take a look\n",
    "display(df_det2)"
   ]
  },
  {
   "cell_type": "code",
   "execution_count": null,
   "metadata": {},
   "outputs": [],
   "source": [
    "### plotting\n",
    "data_cols=[\"entries\",\"mean\",\"std_dev\"]\n",
    "# loop over data columns\n",
    "for dc in data_cols:\n",
    "    chart=alt.Chart(df_det2).mark_point().encode(\n",
    "        x='size:Q',\n",
    "        y=alt.Y(dc+':Q',scale=alt.Scale(zero=False)),\n",
    "        shape='particle_type:N',\n",
    "        color='axis:N'\n",
    "    ).properties( title=dc )\n",
    "    display(chart)"
   ]
  },
  {
   "attachments": {},
   "cell_type": "markdown",
   "metadata": {},
   "source": [
    "# Detector comparison\n"
   ]
  },
  {
   "cell_type": "code",
   "execution_count": null,
   "metadata": {},
   "outputs": [],
   "source": [
    "# define parameter\n",
    "df_det1['detector']=\"front\"\n",
    "df_det2['detector']=\"back\"\n",
    "# combine dataframes\n",
    "df_comb=pd.concat([df_det1,df_det2]).reset_index(drop=True)\n",
    "df_comb"
   ]
  },
  {
   "cell_type": "code",
   "execution_count": null,
   "metadata": {},
   "outputs": [],
   "source": [
    "### plotting\n",
    "data_cols=[\"entries\",\"mean\",\"std_dev\"]\n",
    "# loop over data columns\n",
    "for dc in data_cols:\n",
    "    chart=alt.Chart(df_comb).mark_point().encode(\n",
    "        x='size:Q',\n",
    "        y=alt.Y(dc+':Q',scale=alt.Scale(zero=False)),\n",
    "        shape='detector:N',\n",
    "        color='axis:N',\n",
    "        column='particle_type:N'\n",
    "    ).properties( title=dc )\n",
    "    display(chart)"
   ]
  },
  {
   "cell_type": "code",
   "execution_count": null,
   "metadata": {},
   "outputs": [],
   "source": []
  }
 ],
 "metadata": {
  "kernelspec": {
   "display_name": "Python 3",
   "language": "python",
   "name": "python3"
  },
  "language_info": {
   "codemirror_mode": {
    "name": "ipython",
    "version": 3
   },
   "file_extension": ".py",
   "mimetype": "text/x-python",
   "name": "python",
   "nbconvert_exporter": "python",
   "pygments_lexer": "ipython3",
   "version": "3.10.4"
  },
  "orig_nbformat": 4
 },
 "nbformat": 4,
 "nbformat_minor": 2
}
