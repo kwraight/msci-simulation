{
 "cells": [
  {
   "attachments": {},
   "cell_type": "markdown",
   "metadata": {},
   "source": [
    "## Beam Energy Comparison\n",
    "\n",
    "Configuration:\n",
    " - Number of events: 1000\n",
    " - Beam size: 10um\n",
    " - Particle type and energy\n",
    "     - Pi+ @ 50, 100, 150GeV\n",
    "     - e- @ 2, 5, 10GeV"
   ]
  },
  {
   "cell_type": "code",
   "execution_count": null,
   "metadata": {},
   "outputs": [],
   "source": [
    "### import packages\n",
    "import pandas as pd\n",
    "import altair as alt\n",
    "from io import StringIO"
   ]
  },
  {
   "cell_type": "code",
   "execution_count": null,
   "metadata": {},
   "outputs": [],
   "source": [
    "### check package versions\n",
    "packList=[pd,alt]\n",
    "for p in packList:\n",
    "    print(p.__name__+\" : \"+p.__version__)"
   ]
  },
  {
   "attachments": {},
   "cell_type": "markdown",
   "metadata": {},
   "source": [
    "### Detector 1\n",
    "\n",
    "Closest to source\n",
    " - copy formatted data from notebook"
   ]
  },
  {
   "cell_type": "code",
   "execution_count": null,
   "metadata": {},
   "outputs": [],
   "source": [
    "### data table\n",
    "# copy data from format\n",
    "# detect 1\n",
    "data_det1='particle_type,entries,mean,std_dev,axis,energy\\nPi,1187,25.93,1.789,X,50\\nPi,1129,26.09,2.108,X,100\\nPi,1117,25.97,0.4739,X,150\\ne,1111,25.88,0.8144,X,2\\ne,1122,25.84,0.8865,X,5\\ne,1099,26.08,1.430,X,10\\nPi,1187,40.03,1.864,Y,50\\nPi,1129,40.14,1.253,Y,100\\nPi,1117,40.24,1.845,Y,150\\ne,1111,40.03,0.5538,Y,2\\ne,1122,39.98,0.7840,Y,5\\ne,1099,40.03,1.131,Y,10\\n'\n",
    "# Convert String into StringIO\n",
    "csvStringIO = StringIO(data_det1)\n",
    "# read into dataframe\n",
    "df_det1 = pd.read_csv(csvStringIO, sep=\",\", header=0)\n",
    "# take a look\n",
    "display(df_det1)"
   ]
  },
  {
   "cell_type": "code",
   "execution_count": null,
   "metadata": {},
   "outputs": [],
   "source": [
    "### plotting\n",
    "data_cols=[\"entries\",\"mean\",\"std_dev\"]\n",
    "# loop over data columns\n",
    "for dc in data_cols:\n",
    "    chart=alt.Chart(df_det1).mark_point().encode(\n",
    "        x='energy:Q',\n",
    "        y=alt.Y(dc+':Q',scale=alt.Scale(zero=False)),\n",
    "        shape='particle_type:N',\n",
    "        color='axis:N'\n",
    "    ).properties( title=dc )\n",
    "    display(chart)"
   ]
  },
  {
   "attachments": {},
   "cell_type": "markdown",
   "metadata": {},
   "source": [
    "### Detector 2\n",
    "\n",
    "Closest to source\n",
    " - copy formatted data from notebook"
   ]
  },
  {
   "cell_type": "code",
   "execution_count": null,
   "metadata": {},
   "outputs": [],
   "source": [
    "### data table\n",
    "# copy data from format\n",
    "# detect 2\n",
    "data_det2='particle_type,entries,mean,std_dev,axis,energy\\nPi,1744,25.49,3.942,X,50\\nPi,1713,25.94,3.293,X,100\\nPi,1812,25.73,3.971,X,150\\ne,1759,25.61,3.581,X,2\\ne,1759,25.99,3.328,X,5\\ne,1805,26.02,3.188,X,10\\nPi,1774,39.42,5.454,Y,50\\nPi,1713,39.94,4.544,Y,100\\nPi,1812,39.22,6.469,Y,150\\ne,1759,39.64,4.557,Y,2\\ne,1759,39.74,5.153,Y,5\\ne,1805,39.80,5.402,Y,10\\n'\n",
    "# Convert String into StringIO\n",
    "csvStringIO = StringIO(data_det2)\n",
    "# read into dataframe\n",
    "df_det2 = pd.read_csv(csvStringIO, sep=\",\", header=0)\n",
    "# take a look\n",
    "display(df_det2)"
   ]
  },
  {
   "cell_type": "code",
   "execution_count": null,
   "metadata": {},
   "outputs": [],
   "source": [
    "### plotting\n",
    "data_cols=[\"entries\",\"mean\",\"std_dev\"]\n",
    "# loop over data columns\n",
    "for dc in data_cols:\n",
    "    chart=alt.Chart(df_det2).mark_point().encode(\n",
    "        x='energy:Q',\n",
    "        y=alt.Y(dc+':Q',scale=alt.Scale(zero=False)),\n",
    "        shape='particle_type:N',\n",
    "        color='axis:N'\n",
    "    ).properties( title=dc )\n",
    "    display(chart)"
   ]
  },
  {
   "attachments": {},
   "cell_type": "markdown",
   "metadata": {},
   "source": [
    "# Detector comparison\n"
   ]
  },
  {
   "cell_type": "code",
   "execution_count": null,
   "metadata": {},
   "outputs": [],
   "source": [
    "# define parameter\n",
    "df_det1['detector']=\"detector 1\"\n",
    "df_det2['detector']=\"detector 2\"\n",
    "# combine dataframes\n",
    "df_comb=pd.concat([df_det1,df_det2]).reset_index(drop=True)\n",
    "df_comb"
   ]
  },
  {
   "cell_type": "code",
   "execution_count": null,
   "metadata": {},
   "outputs": [],
   "source": [
    "### plotting\n",
    "data_cols=[\"entries\",\"mean\",\"std_dev\"]\n",
    "# loop over data columns\n",
    "for dc in data_cols:\n",
    "    chart=alt.Chart(df_comb).mark_point().encode(\n",
    "        x='energy:Q',\n",
    "        y=alt.Y(dc+':Q',scale=alt.Scale(zero=False)),\n",
    "        shape='axis:N',\n",
    "        color='axis',\n",
    "        column='particle_type:N'\n",
    "    ).properties( title=dc )\n",
    "    display(chart)"
   ]
  },
  {
   "cell_type": "code",
   "execution_count": null,
   "metadata": {},
   "outputs": [],
   "source": []
  }
 ],
 "metadata": {
  "kernelspec": {
   "display_name": "Python 3",
   "language": "python",
   "name": "python3"
  },
  "language_info": {
   "codemirror_mode": {
    "name": "ipython",
    "version": 3
   },
   "file_extension": ".py",
   "mimetype": "text/x-python",
   "name": "python",
   "nbconvert_exporter": "python",
   "pygments_lexer": "ipython3",
   "version": "3.10.4"
  },
  "orig_nbformat": 4
 },
 "nbformat": 4,
 "nbformat_minor": 2
}
