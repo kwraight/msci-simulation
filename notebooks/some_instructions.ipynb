{
 "cells": [
  {
   "attachments": {},
   "cell_type": "markdown",
   "metadata": {},
   "source": [
    "## Some Notebook instructions\n",
    "\n",
    "Overview:\n",
    " - Importing Packages\n",
    " - Making a pandas DataFrame\n",
    " - Plotting the data from pandas with altair"
   ]
  },
  {
   "attachments": {},
   "cell_type": "markdown",
   "metadata": {},
   "source": [
    "### 1. Importing Packages\n",
    "\n",
    "Packages are groups of groups of pre-defined functions for specific tasks, e.g. manipulation strings, plotting graphs. Sharing packages avoids people re-writing common pieces of code and maintains standard functions.\n",
    "\n",
    "Python has many useful packages use when coding. Many are built-in when python is install; others can be installed later using the _pip_ module on the command-line:\n",
    " > python -m pip install SOME_PACKAGE\n",
    "\n",
    "Inside the notebook, packages are usually imported at the start of some code, this makes it clear what will be used/required later on.\n",
    "Importing has the form:\n",
    "> import SOME_PACKAGE\n",
    "\n",
    "The functions of the package can then be accessed:\n",
    "> SOME_PACKAGE.SOME_FUNCTION()\n",
    "\n",
    "You can also use an alias so it is easier to refer to the package later on:\n",
    "> import SOME_PACKAGE as sp\n",
    "\n",
    "The functions of the package can then be accessed:\n",
    "> sp.SOME_FUNCTION()\n",
    "\n"
   ]
  },
  {
   "cell_type": "code",
   "execution_count": null,
   "metadata": {},
   "outputs": [],
   "source": [
    "### import packages\n",
    "import pandas as pd\n",
    "import altair as alt\n"
   ]
  },
  {
   "attachments": {},
   "cell_type": "markdown",
   "metadata": {},
   "source": [
    "### 2. Making a pandas DataFrame\n",
    "\n",
    "Pandas is a package for data analysis with many useful tools for _wrangling_ and _manipulating_ data\n",
    "\n",
    "__wrangling__\n",
    "\n",
    "Before data analysis can begin the data must be read in to a common format. Often some manipulation is required, e.g. remove punctuation, change case.\n",
    "\n",
    "__manipulating__\n",
    "\n",
    "Once the data is formatted some initial adjustments can be made, e.g. format data type, scale values\n"
   ]
  },
  {
   "cell_type": "code",
   "execution_count": null,
   "metadata": {},
   "outputs": [],
   "source": [
    "### define some data as a list of dictionaries\n",
    "input_data=[ {'key':\"this\", 'value':True},\n",
    "      {'key':\"that\", 'value':3.14},\n",
    "      {'key':\"other\", 'value':\"some text\"},\n",
    "      {'key':\"another\", 'value':[1,2,3]}\n",
    "      ]\n",
    "input_data"
   ]
  },
  {
   "cell_type": "code",
   "execution_count": null,
   "metadata": {},
   "outputs": [],
   "source": [
    "### convert to a DataFrame\n",
    "df_input=pd.DataFrame( input_data )\n",
    "df_input"
   ]
  },
  {
   "attachments": {},
   "cell_type": "markdown",
   "metadata": {},
   "source": [
    "Example wrangling:\n",
    "- make array of numbers (_another_) into seperate values\n",
    "    - see offical documentation: [link](https://pandas.pydata.org/docs/reference/api/pandas.DataFrame.explode.html)\n",
    "- remove non-numeric values\n",
    "    - see a user example: [link](https://stackoverflow.com/questions/34855859/is-there-a-way-in-pandas-to-use-previous-row-value-in-dataframe-apply-when-previ)"
   ]
  },
  {
   "cell_type": "code",
   "execution_count": null,
   "metadata": {},
   "outputs": [],
   "source": [
    "### make array into separate values\n",
    "df_input.explode('value')\n"
   ]
  },
  {
   "cell_type": "code",
   "execution_count": null,
   "metadata": {},
   "outputs": [],
   "source": [
    "### non-numeric values\n",
    "df_input[pd.to_numeric(df_input['value'], errors='coerce').notnull()]\n"
   ]
  },
  {
   "cell_type": "code",
   "execution_count": null,
   "metadata": {},
   "outputs": [],
   "source": [
    "### use both together and assign to new dataframe\n",
    "# array --> rows\n",
    "df_new=df_input.explode('value')\n",
    "# remove non-numeric\n",
    "df_new=df_new[pd.to_numeric(df_new['value'], errors='coerce').notnull()]\n",
    "# reset row index\n",
    "df_new=df_new.reset_index(drop=True)\n",
    "# can view just by using variable or by display(VARIABLE)\n",
    "df_new\n"
   ]
  },
  {
   "attachments": {},
   "cell_type": "markdown",
   "metadata": {},
   "source": [
    "### 3. Plotting the data from pandas with altair\n",
    "\n",
    "Altair is a useful data visualisation package which is designed to work with pandas DataFrames. It uses the column names from the input DataFrame to define the variables for plotting. The variables can be used for a number of visualisation _channels_, e.g.: position, colour, shape.\n",
    "\n"
   ]
  },
  {
   "cell_type": "code",
   "execution_count": null,
   "metadata": {},
   "outputs": [],
   "source": [
    "# define some data\n",
    "plot_data=[{'x':1, 'y':2, 'z':\"up\"},\n",
    "           {'x':2, 'y':4, 'z':\"up\"},\n",
    "           {'x':3, 'y':4, 'z':\"up\"},\n",
    "           {'x':4, 'y':6, 'z':\"up\"},\n",
    "           {'x':5, 'y':7, 'z':\"up\"},\n",
    "           {'x':6, 'y':9, 'z':\"up\"},\n",
    "           {'x':7, 'y':12, 'z':\"up\"},\n",
    "           {'x':8, 'y':10, 'z':\"down\"},\n",
    "           {'x':9, 'y':9, 'z':\"down\"},\n",
    "           {'x':10, 'y':10, 'z':\"up\"}\n",
    "           ]\n",
    "# convert to dataframe\n",
    "df_plot=pd.DataFrame(plot_data)\n",
    "df_plot"
   ]
  },
  {
   "cell_type": "code",
   "execution_count": null,
   "metadata": {},
   "outputs": [],
   "source": [
    "### plotting\n",
    "chart=alt.Chart(df_plot).mark_point().encode(\n",
    "    x='x:Q',\n",
    "    y='y:Q',\n",
    "    color='z:N'\n",
    ").properties( title=\"Simple scatter\" )\n",
    "display(chart)"
   ]
  },
  {
   "attachments": {},
   "cell_type": "markdown",
   "metadata": {},
   "source": [
    "More complex example\n",
    " - plotting 4 dimensions (channels)\n",
    " - set scale\n",
    " - use tooltip (give information when mouse rolls over) "
   ]
  },
  {
   "cell_type": "code",
   "execution_count": null,
   "metadata": {},
   "outputs": [],
   "source": [
    "### generate fake data\n",
    "new_data=[]\n",
    "# loop 20 times\n",
    "for i in range(0,20,1):\n",
    "    # add dictionary to data list\n",
    "    new_data.append({'x':i})\n",
    "# make data frame\n",
    "df_new=pd.DataFrame(new_data)\n",
    "df_new"
   ]
  },
  {
   "cell_type": "code",
   "execution_count": null,
   "metadata": {},
   "outputs": [],
   "source": [
    "# define y value related to each x value:\n",
    "# x*3 - random value\n",
    "import random # should be defined at the beginning\n",
    "df_new['y']=df_new['x'].apply(lambda x: x*3 - random.random()*10)\n",
    "df_new"
   ]
  },
  {
   "cell_type": "code",
   "execution_count": null,
   "metadata": {},
   "outputs": [],
   "source": [
    "# define z value:\n",
    "# \"up\" when gradient positive, \"down\" otherwise\n",
    "df_new['z']=None\n",
    "df_new['gradY']= df_new['y'] - df_new['y'].shift(1)\n",
    "df_new['z']=df_new['gradY'].apply(lambda x: \"up\" if x>0 else \"down\")\n",
    "df_new"
   ]
  },
  {
   "cell_type": "code",
   "execution_count": null,
   "metadata": {},
   "outputs": [],
   "source": [
    "### plotting: using detailed channel encoding, e.g. alt.X()\n",
    "chart=alt.Chart(df_new).mark_point().encode(\n",
    "    # change title\n",
    "    x=alt.X('x:Q', axis=alt.Axis(title=\"editted title\")),\n",
    "    # set domain [0,50] - other points will appear outside grid\n",
    "    y=alt.Y('y:Q', scale=alt.Scale(domain=[0,50])),\n",
    "    # turn off legend\n",
    "    color=alt.Color('z:N', legend=None),\n",
    "    # use tool tip to show information per point (use gradY, not z)\n",
    "    tooltip=['x:Q','y:Q','gradY:Q']\n",
    ").properties( title=\"Another scatter\" )\n",
    "display(chart)"
   ]
  },
  {
   "cell_type": "code",
   "execution_count": null,
   "metadata": {},
   "outputs": [],
   "source": []
  }
 ],
 "metadata": {
  "kernelspec": {
   "display_name": "Python 3 (ipykernel)",
   "language": "python",
   "name": "python3"
  },
  "language_info": {
   "codemirror_mode": {
    "name": "ipython",
    "version": 3
   },
   "file_extension": ".py",
   "mimetype": "text/x-python",
   "name": "python",
   "nbconvert_exporter": "python",
   "pygments_lexer": "ipython3",
   "version": "3.10.4"
  }
 },
 "nbformat": 4,
 "nbformat_minor": 4
}
